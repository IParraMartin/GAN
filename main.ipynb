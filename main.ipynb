{
 "cells": [
  {
   "cell_type": "code",
   "execution_count": 4,
   "metadata": {},
   "outputs": [],
   "source": [
    "import torch\n",
    "import torch.nn as nn\n",
    "from torch.utils.data import DataLoader, Dataset\n",
    "import numpy as np"
   ]
  },
  {
   "cell_type": "code",
   "execution_count": 3,
   "metadata": {},
   "outputs": [],
   "source": [
    "class BasqueDataset(Dataset):\n",
    "    \n",
    "    def __init__(self, file_path, transform=None):\n",
    "        with open(file_path, 'r') as f:\n",
    "            self.text = [line.strip() for line in f.readlines()]\n",
    "        self.transform = transform\n",
    "\n",
    "    def __len__(self):\n",
    "        return len(self.text)\n",
    "    \n",
    "    def __getitem__(self, idx):\n",
    "        sample = self.text[idx]\n",
    "        if self.transform:\n",
    "            sample = self.transform(sample)\n",
    "        return sample"
   ]
  },
  {
   "cell_type": "code",
   "execution_count": null,
   "metadata": {},
   "outputs": [],
   "source": [
    "dataset = BasqueDataset(\"\")\n",
    "data_loader =  DataLoader(dataset, \n",
    "                          batch_size=32, \n",
    "                          shuffle=True)"
   ]
  },
  {
   "cell_type": "code",
   "execution_count": null,
   "metadata": {},
   "outputs": [],
   "source": [
    "class Generator(nn.Module):\n",
    "    def __init__(self, input_size, hidden_size, output_size, num_layers):\n",
    "        super(Generator, self).__init__()\n",
    "        \n",
    "        \"\"\"Define the LSTM layer with the specified number of layers\"\"\"\n",
    "        self.lstm = nn.LSTM(input_size, \n",
    "                            hidden_size, \n",
    "                            num_layers=num_layers, \n",
    "                            batch_first=True)\n",
    "        \n",
    "        \"\"\"Define the linear layer that will map the hidden state output to the output size (vocab size)\"\"\"\n",
    "        self.linear = nn.Linear(hidden_size, \n",
    "                                output_size)\n",
    "        \n",
    "    def forward(self, x, prev_states):\n",
    "        lstm_out, states = self.lstm(x, prev_states)\n",
    "        \n",
    "        \"\"\"We take the output of the last LSTM layer for each sequence and pass it through the linear layer\n",
    "        lstm_out is of shape (batch_size, sequence_length, hidden_size) We want to pass the output of the last \n",
    "        time step to the linear layer which is lstm_out[:, -1, :]\"\"\"\n",
    "\n",
    "        last_time_step_out = lstm_out[:, -1, :]\n",
    "        out = self.linear(last_time_step_out)\n",
    "        out = nn.functional.softmax(out, dim=1)\n",
    "        \n",
    "        return out, states\n",
    "\n",
    "\n",
    "input_size = 1000  # size of the vocabulary\n",
    "hidden_size = 256  # size of the hidden layers\n",
    "output_size = input_size  # output size (typically the vocab size)\n",
    "num_layers = 4  # The number of LSTM layers\n",
    "\n",
    "generator = Generator(input_size, \n",
    "                      hidden_size, \n",
    "                      output_size, \n",
    "                      num_layers)\n",
    "\n",
    "# initialize the hidden and cell states\n",
    "initial_states = (\n",
    "    torch.zeros(num_layers, batch_size, hidden_size),\n",
    "    torch.zeros(num_layers, batch_size, hidden_size)\n",
    "    )"
   ]
  },
  {
   "cell_type": "code",
   "execution_count": null,
   "metadata": {},
   "outputs": [],
   "source": [
    "class Discriminator(nn.Module):\n",
    "    def __init__(self, input_size, hidden_size, num_layers):\n",
    "        super(Discriminator, self).__init__()\n",
    "\n",
    "        self.LSTM = nn.LSTM(input_size,\n",
    "                            hidden_size,\n",
    "                            num_layers=num_layers,\n",
    "                            batch_first=True)\n",
    "        \n",
    "        self.linear = nn.Linear(hidden_size, 1)\n",
    "        self.sigmoid = nn.Sigmoid()\n",
    "\n",
    "    def forward(self, x, hidden):\n",
    "        lstm_out, _ = self.LSTM(x, hidden)\n",
    "        lstm_out = lstm_out[:, -1, :]\n",
    "        out = self.linear(lstm_out)\n",
    "        out = self.sigmoid(out)\n",
    "        return out\n",
    "\n",
    "input_size = 1000  # size of the vocabulary\n",
    "hidden_size = 256  # size of the hidden layers\n",
    "num_layers = 4  # The number of LSTM layers\n",
    "\n",
    "discriminator = Discriminator(input_size,hidden_size,num_layers)\n",
    "\n",
    "discriminator_state = (\n",
    "    torch.zeros(num_layers, batch_size, hidden_size),\n",
    "    torch.zeros(num_layers, batch_size, hidden_size)\n",
    "    )"
   ]
  },
  {
   "cell_type": "code",
   "execution_count": null,
   "metadata": {},
   "outputs": [],
   "source": [
    "# Loss\n",
    "criterion = nn.BCELoss()\n",
    "optimizer_gen = torch.optim.Adam(generator.parameters(), lr=0.001)\n",
    "optimizer_dis = torch.optim.Adam(discriminator.parameters(), lr=0.001)"
   ]
  },
  {
   "cell_type": "code",
   "execution_count": null,
   "metadata": {},
   "outputs": [],
   "source": [
    "# Trainning loop\n",
    "n_epochs = 10\n",
    "batch_size = 32\n",
    "\n",
    "for epoch in range(n_epochs):\n",
    "    for i, (real_data,) in enumerate(data_loader):\n"
   ]
  }
 ],
 "metadata": {
  "kernelspec": {
   "display_name": "Python 3",
   "language": "python",
   "name": "python3"
  },
  "language_info": {
   "codemirror_mode": {
    "name": "ipython",
    "version": 3
   },
   "file_extension": ".py",
   "mimetype": "text/x-python",
   "name": "python",
   "nbconvert_exporter": "python",
   "pygments_lexer": "ipython3",
   "version": "3.11.1"
  }
 },
 "nbformat": 4,
 "nbformat_minor": 2
}
